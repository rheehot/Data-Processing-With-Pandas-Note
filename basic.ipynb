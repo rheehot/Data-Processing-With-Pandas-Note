{
 "cells": [
  {
   "cell_type": "code",
   "execution_count": 21,
   "metadata": {},
   "outputs": [],
   "source": [
    "import pandas as pd\n",
    "pd.options.display.max_rows=8\n",
    "import seaborn as sns"
   ]
  },
  {
   "cell_type": "code",
   "execution_count": 19,
   "metadata": {},
   "outputs": [],
   "source": [
    "df = sns.load_dataset('iris')"
   ]
  },
  {
   "cell_type": "markdown",
   "metadata": {},
   "source": [
    "## 타입"
   ]
  },
  {
   "cell_type": "markdown",
   "metadata": {},
   "source": [
    "출처 : http://pbpython.com/pandas_dtypes.html"
   ]
  },
  {
   "cell_type": "markdown",
   "metadata": {},
   "source": [
    "| Pandas dtype | Python type | NumPy type | Usage |\n",
    "|----------------|--------------|--------------|--------|\n",
    "| object | str | string_, unicode_ | Text |\n",
    "int64|int|int_, int8, int16, int32, int64, uint8, uint16, uint32, uint64|Integer numbers\n",
    "float64|float|float_, float16, float32, float64|Floating point numbers\n",
    "bool|bool|bool_|True/False values\n",
    "datetime64|NA|datetime64[ns]|Date and time values\n",
    "timedelta[ns]|NA|NA|Differences between two datetimes\n",
    "category|NA|NA|Finite list of text values"
   ]
  },
  {
   "cell_type": "markdown",
   "metadata": {},
   "source": [
    "### 타입 변경"
   ]
  },
  {
   "cell_type": "code",
   "execution_count": null,
   "metadata": {},
   "outputs": [],
   "source": [
    "df['컬럼명'].astype('int16')\n",
    "df['컬럼명'].astype('float32')\n",
    "df['컬럼명'].astype('str') # 문자열 지정은 str로 한다. 보여지는 값은 object"
   ]
  },
  {
   "cell_type": "markdown",
   "metadata": {},
   "source": [
    "#### category : 지정된 값으로만 채워질 수 있는 타입 ( 나머지는 NaN 처리 ) / 숫자, 문자 가능\n",
    " - R에서 factor와 같음"
   ]
  },
  {
   "cell_type": "code",
   "execution_count": null,
   "metadata": {},
   "outputs": [],
   "source": [
    "df['컬럼명'].astype('category')"
   ]
  },
  {
   "cell_type": "code",
   "execution_count": 33,
   "metadata": {},
   "outputs": [
    {
     "data": {
      "text/plain": [
       "[a, b, NaN, NaN, NaN]\n",
       "Categories (2, object): [a < b]"
      ]
     },
     "execution_count": 33,
     "metadata": {},
     "output_type": "execute_result"
    }
   ],
   "source": [
    "# categories가 지정할 값, 나머지는 NaN 처리\n",
    "pd.Categorical(['a','b','c','d','e'], categories=['a','b'], ordered=True)"
   ]
  },
  {
   "cell_type": "markdown",
   "metadata": {},
   "source": [
    "#### 다음과 같은 방식으로 타입 캐스팅"
   ]
  },
  {
   "cell_type": "code",
   "execution_count": 35,
   "metadata": {},
   "outputs": [],
   "source": [
    "df['sepal_length'] = df['sepal_length'].astype('int8')"
   ]
  }
 ],
 "metadata": {
  "kernelspec": {
   "display_name": "Python 3",
   "language": "python",
   "name": "python3"
  },
  "language_info": {
   "codemirror_mode": {
    "name": "ipython",
    "version": 3
   },
   "file_extension": ".py",
   "mimetype": "text/x-python",
   "name": "python",
   "nbconvert_exporter": "python",
   "pygments_lexer": "ipython3",
   "version": "3.6.6"
  }
 },
 "nbformat": 4,
 "nbformat_minor": 2
}

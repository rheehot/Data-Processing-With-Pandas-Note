{
 "cells": [
  {
   "cell_type": "code",
   "execution_count": 28,
   "metadata": {},
   "outputs": [],
   "source": [
    "import pandas as pd\n",
    "import seaborn as sns\n",
    "pd.options.display.max_rows = 6"
   ]
  },
  {
   "cell_type": "markdown",
   "metadata": {},
   "source": [
    "## 함수를 통한 Value 전처리"
   ]
  },
  {
   "cell_type": "markdown",
   "metadata": {},
   "source": [
    "### map ( Series ) & apply( DataFrame ) & applymap( DataFrame )"
   ]
  },
  {
   "cell_type": "code",
   "execution_count": 29,
   "metadata": {},
   "outputs": [],
   "source": [
    "tips = sns.load_dataset('tips')"
   ]
  },
  {
   "cell_type": "code",
   "execution_count": 30,
   "metadata": {},
   "outputs": [],
   "source": [
    "def square(x):\n",
    "    return x**2"
   ]
  },
  {
   "cell_type": "markdown",
   "metadata": {},
   "source": [
    "#### .map은 Series에서만 적용이 가능하다."
   ]
  },
  {
   "cell_type": "code",
   "execution_count": 31,
   "metadata": {},
   "outputs": [
    {
     "data": {
      "text/plain": [
       "0       1.0201\n",
       "1       2.7556\n",
       "2      12.2500\n",
       "        ...   \n",
       "241     4.0000\n",
       "242     3.0625\n",
       "243     9.0000\n",
       "Name: tip, Length: 244, dtype: float64"
      ]
     },
     "execution_count": 31,
     "metadata": {},
     "output_type": "execute_result"
    }
   ],
   "source": [
    "tips['tip'].map(square) # apply로도 가능"
   ]
  },
  {
   "cell_type": "code",
   "execution_count": 32,
   "metadata": {},
   "outputs": [
    {
     "data": {
      "text/html": [
       "<div>\n",
       "<style scoped>\n",
       "    .dataframe tbody tr th:only-of-type {\n",
       "        vertical-align: middle;\n",
       "    }\n",
       "\n",
       "    .dataframe tbody tr th {\n",
       "        vertical-align: top;\n",
       "    }\n",
       "\n",
       "    .dataframe thead th {\n",
       "        text-align: right;\n",
       "    }\n",
       "</style>\n",
       "<table border=\"1\" class=\"dataframe\">\n",
       "  <thead>\n",
       "    <tr style=\"text-align: right;\">\n",
       "      <th></th>\n",
       "      <th>total_bill</th>\n",
       "      <th>tip</th>\n",
       "      <th>size</th>\n",
       "    </tr>\n",
       "  </thead>\n",
       "  <tbody>\n",
       "    <tr>\n",
       "      <th>0</th>\n",
       "      <td>288.6601</td>\n",
       "      <td>1.0201</td>\n",
       "      <td>4</td>\n",
       "    </tr>\n",
       "    <tr>\n",
       "      <th>1</th>\n",
       "      <td>106.9156</td>\n",
       "      <td>2.7556</td>\n",
       "      <td>9</td>\n",
       "    </tr>\n",
       "    <tr>\n",
       "      <th>2</th>\n",
       "      <td>441.4201</td>\n",
       "      <td>12.2500</td>\n",
       "      <td>9</td>\n",
       "    </tr>\n",
       "    <tr>\n",
       "      <th>...</th>\n",
       "      <td>...</td>\n",
       "      <td>...</td>\n",
       "      <td>...</td>\n",
       "    </tr>\n",
       "    <tr>\n",
       "      <th>241</th>\n",
       "      <td>513.9289</td>\n",
       "      <td>4.0000</td>\n",
       "      <td>4</td>\n",
       "    </tr>\n",
       "    <tr>\n",
       "      <th>242</th>\n",
       "      <td>317.5524</td>\n",
       "      <td>3.0625</td>\n",
       "      <td>4</td>\n",
       "    </tr>\n",
       "    <tr>\n",
       "      <th>243</th>\n",
       "      <td>352.6884</td>\n",
       "      <td>9.0000</td>\n",
       "      <td>4</td>\n",
       "    </tr>\n",
       "  </tbody>\n",
       "</table>\n",
       "<p>244 rows × 3 columns</p>\n",
       "</div>"
      ],
      "text/plain": [
       "     total_bill      tip  size\n",
       "0      288.6601   1.0201     4\n",
       "1      106.9156   2.7556     9\n",
       "2      441.4201  12.2500     9\n",
       "..          ...      ...   ...\n",
       "241    513.9289   4.0000     4\n",
       "242    317.5524   3.0625     4\n",
       "243    352.6884   9.0000     4\n",
       "\n",
       "[244 rows x 3 columns]"
      ]
     },
     "execution_count": 32,
     "metadata": {},
     "output_type": "execute_result"
    }
   ],
   "source": [
    "# 각각의 컬럼이 함수의 args로 입력된다.\n",
    "tips[['total_bill','tip','size']].apply(square) # DataFrame은 apply만 사용 가능"
   ]
  },
  {
   "cell_type": "code",
   "execution_count": 33,
   "metadata": {},
   "outputs": [
    {
     "data": {
      "text/plain": [
       "0      20.00\n",
       "1      15.00\n",
       "2      27.51\n",
       "       ...  \n",
       "241    26.67\n",
       "242    21.57\n",
       "243    23.78\n",
       "Length: 244, dtype: float64"
      ]
     },
     "execution_count": 33,
     "metadata": {},
     "output_type": "execute_result"
    }
   ],
   "source": [
    "# 각각의 row를 기준으로 계산할 수 있다.\n",
    "def row_sum(row):\n",
    "    return sum(row)\n",
    "\n",
    "tips[['total_bill','tip','size']].apply(row_sum, axis=1) # axis = 1"
   ]
  },
  {
   "cell_type": "code",
   "execution_count": 34,
   "metadata": {},
   "outputs": [
    {
     "data": {
      "text/html": [
       "<div>\n",
       "<style scoped>\n",
       "    .dataframe tbody tr th:only-of-type {\n",
       "        vertical-align: middle;\n",
       "    }\n",
       "\n",
       "    .dataframe tbody tr th {\n",
       "        vertical-align: top;\n",
       "    }\n",
       "\n",
       "    .dataframe thead th {\n",
       "        text-align: right;\n",
       "    }\n",
       "</style>\n",
       "<table border=\"1\" class=\"dataframe\">\n",
       "  <thead>\n",
       "    <tr style=\"text-align: right;\">\n",
       "      <th></th>\n",
       "      <th>total_bill</th>\n",
       "      <th>tip</th>\n",
       "      <th>size</th>\n",
       "    </tr>\n",
       "  </thead>\n",
       "  <tbody>\n",
       "    <tr>\n",
       "      <th>0</th>\n",
       "      <td>4904.335099</td>\n",
       "      <td>1.030301</td>\n",
       "      <td>8</td>\n",
       "    </tr>\n",
       "    <tr>\n",
       "      <th>1</th>\n",
       "      <td>1105.507304</td>\n",
       "      <td>4.574296</td>\n",
       "      <td>27</td>\n",
       "    </tr>\n",
       "    <tr>\n",
       "      <th>2</th>\n",
       "      <td>9274.236301</td>\n",
       "      <td>42.875000</td>\n",
       "      <td>27</td>\n",
       "    </tr>\n",
       "    <tr>\n",
       "      <th>...</th>\n",
       "      <td>...</td>\n",
       "      <td>...</td>\n",
       "      <td>...</td>\n",
       "    </tr>\n",
       "    <tr>\n",
       "      <th>241</th>\n",
       "      <td>11650.768163</td>\n",
       "      <td>8.000000</td>\n",
       "      <td>8</td>\n",
       "    </tr>\n",
       "    <tr>\n",
       "      <th>242</th>\n",
       "      <td>5658.783768</td>\n",
       "      <td>5.359375</td>\n",
       "      <td>8</td>\n",
       "    </tr>\n",
       "    <tr>\n",
       "      <th>243</th>\n",
       "      <td>6623.488152</td>\n",
       "      <td>27.000000</td>\n",
       "      <td>8</td>\n",
       "    </tr>\n",
       "  </tbody>\n",
       "</table>\n",
       "<p>244 rows × 3 columns</p>\n",
       "</div>"
      ],
      "text/plain": [
       "       total_bill        tip  size\n",
       "0     4904.335099   1.030301     8\n",
       "1     1105.507304   4.574296    27\n",
       "2     9274.236301  42.875000    27\n",
       "..            ...        ...   ...\n",
       "241  11650.768163   8.000000     8\n",
       "242   5658.783768   5.359375     8\n",
       "243   6623.488152  27.000000     8\n",
       "\n",
       "[244 rows x 3 columns]"
      ]
     },
     "execution_count": 34,
     "metadata": {},
     "output_type": "execute_result"
    }
   ],
   "source": [
    "# 추가 parameter를 설정하여 사용하는 방법\n",
    "def nth_square(row, n):\n",
    "    return row**n\n",
    "\n",
    "tips[['total_bill','tip','size']].apply(nth_square, n=3) # kwargs를 명시하면 된다."
   ]
  },
  {
   "cell_type": "markdown",
   "metadata": {},
   "source": [
    "#### .applymap은 모든 value에 적용이 되는 함수"
   ]
  },
  {
   "cell_type": "code",
   "execution_count": 35,
   "metadata": {},
   "outputs": [
    {
     "data": {
      "text/html": [
       "<div>\n",
       "<style scoped>\n",
       "    .dataframe tbody tr th:only-of-type {\n",
       "        vertical-align: middle;\n",
       "    }\n",
       "\n",
       "    .dataframe tbody tr th {\n",
       "        vertical-align: top;\n",
       "    }\n",
       "\n",
       "    .dataframe thead th {\n",
       "        text-align: right;\n",
       "    }\n",
       "</style>\n",
       "<table border=\"1\" class=\"dataframe\">\n",
       "  <thead>\n",
       "    <tr style=\"text-align: right;\">\n",
       "      <th></th>\n",
       "      <th>total_bill</th>\n",
       "      <th>tip</th>\n",
       "      <th>size</th>\n",
       "    </tr>\n",
       "  </thead>\n",
       "  <tbody>\n",
       "    <tr>\n",
       "      <th>0</th>\n",
       "      <td>288.6601</td>\n",
       "      <td>1.0201</td>\n",
       "      <td>4</td>\n",
       "    </tr>\n",
       "    <tr>\n",
       "      <th>1</th>\n",
       "      <td>106.9156</td>\n",
       "      <td>2.7556</td>\n",
       "      <td>9</td>\n",
       "    </tr>\n",
       "    <tr>\n",
       "      <th>2</th>\n",
       "      <td>441.4201</td>\n",
       "      <td>12.2500</td>\n",
       "      <td>9</td>\n",
       "    </tr>\n",
       "    <tr>\n",
       "      <th>...</th>\n",
       "      <td>...</td>\n",
       "      <td>...</td>\n",
       "      <td>...</td>\n",
       "    </tr>\n",
       "    <tr>\n",
       "      <th>241</th>\n",
       "      <td>513.9289</td>\n",
       "      <td>4.0000</td>\n",
       "      <td>4</td>\n",
       "    </tr>\n",
       "    <tr>\n",
       "      <th>242</th>\n",
       "      <td>317.5524</td>\n",
       "      <td>3.0625</td>\n",
       "      <td>4</td>\n",
       "    </tr>\n",
       "    <tr>\n",
       "      <th>243</th>\n",
       "      <td>352.6884</td>\n",
       "      <td>9.0000</td>\n",
       "      <td>4</td>\n",
       "    </tr>\n",
       "  </tbody>\n",
       "</table>\n",
       "<p>244 rows × 3 columns</p>\n",
       "</div>"
      ],
      "text/plain": [
       "     total_bill      tip  size\n",
       "0      288.6601   1.0201     4\n",
       "1      106.9156   2.7556     9\n",
       "2      441.4201  12.2500     9\n",
       "..          ...      ...   ...\n",
       "241    513.9289   4.0000     4\n",
       "242    317.5524   3.0625     4\n",
       "243    352.6884   9.0000     4\n",
       "\n",
       "[244 rows x 3 columns]"
      ]
     },
     "execution_count": 35,
     "metadata": {},
     "output_type": "execute_result"
    }
   ],
   "source": [
    "# 모든 value가 각각 함수의 args로 입력된다.\n",
    "tips[['total_bill','tip','size']].applymap(lambda x: x**2)"
   ]
  },
  {
   "cell_type": "markdown",
   "metadata": {},
   "source": [
    "### groupby를 활용하여 그룹별 전처리"
   ]
  },
  {
   "cell_type": "markdown",
   "metadata": {},
   "source": [
    "#### transform : 각 그룹마다의 함수값(평균, 분산 등)을 활용할 수 있다는 점에서 apply와 다르다."
   ]
  },
  {
   "cell_type": "code",
   "execution_count": 36,
   "metadata": {},
   "outputs": [],
   "source": [
    "def zscore(x):\n",
    "    return (x-x.mean())/x.std()"
   ]
  },
  {
   "cell_type": "code",
   "execution_count": 37,
   "metadata": {},
   "outputs": [
    {
     "data": {
      "text/plain": [
       "0     -1.572623\n",
       "1     -0.960054\n",
       "2      0.275590\n",
       "         ...   \n",
       "241   -0.731728\n",
       "242   -0.899615\n",
       "243    0.143642\n",
       "Name: tip, Length: 244, dtype: float64"
      ]
     },
     "execution_count": 37,
     "metadata": {},
     "output_type": "execute_result"
    }
   ],
   "source": [
    "# 남자는 남자의 평균과 표준편차, 여자는 여자의 평균과 표준편차를 활용하여 계산한다.\n",
    "tips.groupby('sex').tip.transform(zscore)"
   ]
  },
  {
   "cell_type": "code",
   "execution_count": 38,
   "metadata": {},
   "outputs": [
    {
     "name": "stdout",
     "output_type": "stream",
     "text": [
      "0번 row\n",
      "전체로 계산 :  -1.436993214215838\n",
      "여자 그룹으로 계산 :  -1.5726234740675478\n",
      "1번 row\n",
      "전체로 계산 :  -0.9672172242446297\n",
      "남자 그룹으로 계산 :  -0.9600537861856211\n"
     ]
    }
   ],
   "source": [
    "# 그룹별로 잘 계산이 되는 것을 확인할 수 있다.\n",
    "print('0번 row')\n",
    "print(\"전체로 계산 : \", (tips.tip[0]-tips.tip.mean())/tips.tip.std()) # 전체 평균\n",
    "print(\"여자 그룹으로 계산 : \", (tips.tip[0]-tips.groupby('sex').tip.mean()['Female'])/tips.groupby('sex').tip.std()['Female'])\n",
    "print('1번 row')\n",
    "print(\"전체로 계산 : \", (tips.tip[1]-tips.tip.mean())/tips.tip.std()) # 전체 평균\n",
    "print(\"남자 그룹으로 계산 : \", (tips.tip[1]-tips.groupby('sex').tip.mean()['Male'])/tips.groupby('sex').tip.std()['Male'])"
   ]
  },
  {
   "cell_type": "markdown",
   "metadata": {},
   "source": [
    "참고 : zscore의 x는 아래처럼 그룹으로 나누어진 tip 컬럼이 각각 들어간다."
   ]
  },
  {
   "cell_type": "code",
   "execution_count": 42,
   "metadata": {},
   "outputs": [
    {
     "data": {
      "text/plain": [
       "{'Male': Int64Index([  1,   2,   3,   5,   6,   7,   8,   9,  10,  12,\n",
       "             ...\n",
       "             231, 232, 233, 234, 235, 236, 237, 239, 241, 242],\n",
       "            dtype='int64', length=157),\n",
       " 'Female': Int64Index([  0,   4,  11,  14,  16,  18,  21,  22,  29,  32,  33,  37,  51,\n",
       "              52,  57,  66,  67,  71,  72,  73,  74,  82,  85,  92,  93,  94,\n",
       "             100, 101, 102, 103, 104, 109, 111, 114, 115, 117, 118, 119, 121,\n",
       "             124, 125, 127, 128, 131, 132, 133, 134, 135, 136, 137, 139, 140,\n",
       "             143, 144, 145, 146, 147, 155, 157, 158, 162, 164, 168, 169, 178,\n",
       "             186, 188, 191, 197, 198, 201, 202, 203, 205, 209, 213, 214, 215,\n",
       "             219, 221, 223, 225, 226, 229, 238, 240, 243],\n",
       "            dtype='int64')}"
      ]
     },
     "execution_count": 42,
     "metadata": {},
     "output_type": "execute_result"
    }
   ],
   "source": [
    "tips.groupby('sex').tip.groups"
   ]
  }
 ],
 "metadata": {
  "kernelspec": {
   "display_name": "Python 3",
   "language": "python",
   "name": "python3"
  },
  "language_info": {
   "codemirror_mode": {
    "name": "ipython",
    "version": 3
   },
   "file_extension": ".py",
   "mimetype": "text/x-python",
   "name": "python",
   "nbconvert_exporter": "python",
   "pygments_lexer": "ipython3",
   "version": "3.6.6"
  }
 },
 "nbformat": 4,
 "nbformat_minor": 2
}

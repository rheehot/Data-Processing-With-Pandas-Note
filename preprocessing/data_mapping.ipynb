{
 "cells": [
  {
   "cell_type": "markdown",
   "metadata": {},
   "source": [
    "reference : https://stackoverflow.com/questions/16992713/translate-every-element-in-numpy-array-according-to-key"
   ]
  },
  {
   "cell_type": "code",
   "execution_count": 3,
   "metadata": {},
   "outputs": [],
   "source": [
    "import seaborn as sns\n",
    "import pandas as pd\n",
    "import numpy as np\n",
    "pd.options.display.max_rows = 6"
   ]
  },
  {
   "cell_type": "code",
   "execution_count": 4,
   "metadata": {},
   "outputs": [
    {
     "data": {
      "text/html": [
       "<div>\n",
       "<style scoped>\n",
       "    .dataframe tbody tr th:only-of-type {\n",
       "        vertical-align: middle;\n",
       "    }\n",
       "\n",
       "    .dataframe tbody tr th {\n",
       "        vertical-align: top;\n",
       "    }\n",
       "\n",
       "    .dataframe thead th {\n",
       "        text-align: right;\n",
       "    }\n",
       "</style>\n",
       "<table border=\"1\" class=\"dataframe\">\n",
       "  <thead>\n",
       "    <tr style=\"text-align: right;\">\n",
       "      <th></th>\n",
       "      <th>id</th>\n",
       "      <th>diet</th>\n",
       "      <th>kind</th>\n",
       "    </tr>\n",
       "  </thead>\n",
       "  <tbody>\n",
       "    <tr>\n",
       "      <th>0</th>\n",
       "      <td>1</td>\n",
       "      <td>low fat</td>\n",
       "      <td>rest</td>\n",
       "    </tr>\n",
       "    <tr>\n",
       "      <th>1</th>\n",
       "      <td>1</td>\n",
       "      <td>low fat</td>\n",
       "      <td>rest</td>\n",
       "    </tr>\n",
       "    <tr>\n",
       "      <th>2</th>\n",
       "      <td>1</td>\n",
       "      <td>low fat</td>\n",
       "      <td>rest</td>\n",
       "    </tr>\n",
       "    <tr>\n",
       "      <th>3</th>\n",
       "      <td>2</td>\n",
       "      <td>low fat</td>\n",
       "      <td>rest</td>\n",
       "    </tr>\n",
       "    <tr>\n",
       "      <th>4</th>\n",
       "      <td>2</td>\n",
       "      <td>low fat</td>\n",
       "      <td>rest</td>\n",
       "    </tr>\n",
       "  </tbody>\n",
       "</table>\n",
       "</div>"
      ],
      "text/plain": [
       "   id     diet  kind\n",
       "0   1  low fat  rest\n",
       "1   1  low fat  rest\n",
       "2   1  low fat  rest\n",
       "3   2  low fat  rest\n",
       "4   2  low fat  rest"
      ]
     },
     "execution_count": 4,
     "metadata": {},
     "output_type": "execute_result"
    }
   ],
   "source": [
    "df = sns.load_dataset('exercise').iloc[:,[1,2,5]]\n",
    "df.head()"
   ]
  },
  {
   "cell_type": "code",
   "execution_count": 5,
   "metadata": {},
   "outputs": [
    {
     "data": {
      "text/plain": [
       "Index(['rest', 'walking', 'running'], dtype='object')"
      ]
     },
     "execution_count": 5,
     "metadata": {},
     "output_type": "execute_result"
    }
   ],
   "source": [
    "df['kind'].cat.categories"
   ]
  },
  {
   "cell_type": "markdown",
   "metadata": {},
   "source": [
    "## 데이터 mapping (치환)"
   ]
  },
  {
   "cell_type": "markdown",
   "metadata": {},
   "source": [
    ".replace 함수 : 지정된 값만 찾아 변경"
   ]
  },
  {
   "cell_type": "code",
   "execution_count": 6,
   "metadata": {},
   "outputs": [],
   "source": [
    "map_dict= {'rest': 'first' , 'walking': 'second', 'running': 'third'}"
   ]
  },
  {
   "cell_type": "code",
   "execution_count": 42,
   "metadata": {},
   "outputs": [
    {
     "data": {
      "text/plain": [
       "0       first\n",
       "1       first\n",
       "2       first\n",
       "       ...   \n",
       "87    running\n",
       "88    running\n",
       "89    running\n",
       "Name: kind, Length: 90, dtype: object"
      ]
     },
     "execution_count": 42,
     "metadata": {},
     "output_type": "execute_result"
    }
   ],
   "source": [
    "df['kind'].replace(map_dict)"
   ]
  },
  {
   "cell_type": "markdown",
   "metadata": {},
   "source": [
    "### .map 함수 활용"
   ]
  },
  {
   "cell_type": "markdown",
   "metadata": {},
   "source": [
    "replace 함수도 있지만 데이터가 많을수록 .map을 활용하는 것이 더 빠르다."
   ]
  },
  {
   "cell_type": "code",
   "execution_count": 11,
   "metadata": {},
   "outputs": [
    {
     "data": {
      "text/plain": [
       "0     first\n",
       "1     first\n",
       "2     first\n",
       "      ...  \n",
       "87      NaN\n",
       "88      NaN\n",
       "89      NaN\n",
       "Name: kind, Length: 90, dtype: object"
      ]
     },
     "execution_count": 11,
     "metadata": {},
     "output_type": "execute_result"
    }
   ],
   "source": [
    "df['kind'].map(map_dict)"
   ]
  },
  {
   "cell_type": "markdown",
   "metadata": {},
   "source": [
    "단, dict에 지정하지 않은 값들은 Nan으로 처리된다. // numpy 방법은 해결 가능"
   ]
  },
  {
   "cell_type": "code",
   "execution_count": 38,
   "metadata": {},
   "outputs": [],
   "source": [
    "map_dict= {'rest': 'first' , 'walking': 'second'}"
   ]
  },
  {
   "cell_type": "code",
   "execution_count": 10,
   "metadata": {},
   "outputs": [
    {
     "data": {
      "text/plain": [
       "0     first\n",
       "1     first\n",
       "2     first\n",
       "      ...  \n",
       "87      NaN\n",
       "88      NaN\n",
       "89      NaN\n",
       "Name: kind, Length: 90, dtype: object"
      ]
     },
     "execution_count": 10,
     "metadata": {},
     "output_type": "execute_result"
    }
   ],
   "source": [
    "df['kind'].map(map_dict)"
   ]
  },
  {
   "cell_type": "markdown",
   "metadata": {},
   "source": [
    "### numpy 활용"
   ]
  },
  {
   "cell_type": "code",
   "execution_count": 43,
   "metadata": {},
   "outputs": [
    {
     "data": {
      "text/plain": [
       "array(['first', 'first', 'first', 'first', 'first', 'first', 'first',\n",
       "       'first', 'first', 'first', 'first', 'first', 'first', 'first',\n",
       "       'first', 'first', 'first', 'first', 'first', 'first', 'first',\n",
       "       'first', 'first', 'first', 'first', 'first', 'first', 'first',\n",
       "       'first', 'first', 'second', 'second', 'second', 'second', 'second',\n",
       "       'second', 'second', 'second', 'second', 'second', 'second',\n",
       "       'second', 'second', 'second', 'second', 'second', 'second',\n",
       "       'second', 'second', 'second', 'second', 'second', 'second',\n",
       "       'second', 'second', 'second', 'second', 'second', 'second',\n",
       "       'second', 'None', 'None', 'None', 'None', 'None', 'None', 'None',\n",
       "       'None', 'None', 'None', 'None', 'None', 'None', 'None', 'None',\n",
       "       'None', 'None', 'None', 'None', 'None', 'None', 'None', 'None',\n",
       "       'None', 'None', 'None', 'None', 'None', 'None', 'None'],\n",
       "      dtype='<U6')"
      ]
     },
     "execution_count": 43,
     "metadata": {},
     "output_type": "execute_result"
    }
   ],
   "source": [
    "np.vectorize(map_dict.get)(df['kind'])"
   ]
  },
  {
   "cell_type": "markdown",
   "metadata": {},
   "source": [
    "dict에 지정하지 않은 값들은 자신의 값 그대로 활용 가능"
   ]
  },
  {
   "cell_type": "code",
   "execution_count": 29,
   "metadata": {},
   "outputs": [
    {
     "data": {
      "text/plain": [
       "array(['first', 'first', 'first', 'first', 'first', 'first', 'first',\n",
       "       'first', 'first', 'first', 'first', 'first', 'first', 'first',\n",
       "       'first', 'first', 'first', 'first', 'first', 'first', 'first',\n",
       "       'first', 'first', 'first', 'first', 'first', 'first', 'first',\n",
       "       'first', 'first', 'second', 'second', 'second', 'second', 'second',\n",
       "       'second', 'second', 'second', 'second', 'second', 'second',\n",
       "       'second', 'second', 'second', 'second', 'second', 'second',\n",
       "       'second', 'second', 'second', 'second', 'second', 'second',\n",
       "       'second', 'second', 'second', 'second', 'second', 'second',\n",
       "       'second', 'running', 'running', 'running', 'running', 'running',\n",
       "       'running', 'running', 'running', 'running', 'running', 'running',\n",
       "       'running', 'running', 'running', 'running', 'running', 'running',\n",
       "       'running', 'running', 'running', 'running', 'running', 'running',\n",
       "       'running', 'running', 'running', 'running', 'running', 'running',\n",
       "       'running'], dtype='<U7')"
      ]
     },
     "execution_count": 29,
     "metadata": {},
     "output_type": "execute_result"
    }
   ],
   "source": [
    "np.vectorize(map_dict.get)(df['kind'], df['kind'])"
   ]
  },
  {
   "cell_type": "markdown",
   "metadata": {},
   "source": [
    "참고"
   ]
  },
  {
   "cell_type": "code",
   "execution_count": 41,
   "metadata": {},
   "outputs": [
    {
     "name": "stdout",
     "output_type": "stream",
     "text": [
      "611 µs ± 5.63 µs per loop (mean ± std. dev. of 7 runs, 1000 loops each)\n"
     ]
    }
   ],
   "source": [
    "%timeit df['kind'].map(map_dict)"
   ]
  },
  {
   "cell_type": "code",
   "execution_count": 34,
   "metadata": {},
   "outputs": [
    {
     "name": "stdout",
     "output_type": "stream",
     "text": [
      "165 µs ± 550 ns per loop (mean ± std. dev. of 7 runs, 10000 loops each)\n"
     ]
    }
   ],
   "source": [
    "%timeit np.vectorize(map_dict.get)(df['kind'])"
   ]
  }
 ],
 "metadata": {
  "kernelspec": {
   "display_name": "Python 3",
   "language": "python",
   "name": "python3"
  },
  "language_info": {
   "codemirror_mode": {
    "name": "ipython",
    "version": 3
   },
   "file_extension": ".py",
   "mimetype": "text/x-python",
   "name": "python",
   "nbconvert_exporter": "python",
   "pygments_lexer": "ipython3",
   "version": "3.7.6"
  }
 },
 "nbformat": 4,
 "nbformat_minor": 4
}

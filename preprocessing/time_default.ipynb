{
 "cells": [
  {
   "cell_type": "markdown",
   "metadata": {},
   "source": [
    "참고 : https://jakevdp.github.io/PythonDataScienceHandbook/03.11-working-with-time-series.html"
   ]
  },
  {
   "cell_type": "code",
   "execution_count": 10,
   "metadata": {},
   "outputs": [],
   "source": [
    "from datetime import datetime, date, time, timedelta\n",
    "import pandas as pd"
   ]
  },
  {
   "cell_type": "markdown",
   "metadata": {},
   "source": [
    "### datetime, date, time"
   ]
  },
  {
   "cell_type": "code",
   "execution_count": 2,
   "metadata": {},
   "outputs": [
    {
     "name": "stdout",
     "output_type": "stream",
     "text": [
      "2018-11-17 20:22:35.307563\n",
      "2018-11-19 17:30:40\n",
      "2018-11-19\n"
     ]
    }
   ],
   "source": [
    "# 현재 시간\n",
    "print( datetime.now() ) # datetime.today()\n",
    "# 연, 월, 일, 시, 분, 초로 생성\n",
    "t1 = datetime(2018,11,19,17,30,40)\n",
    "print(t1)\n",
    "# 연, 월, 일로 생성\n",
    "t2 = date(2018,11,19)\n",
    "print(t2)"
   ]
  },
  {
   "cell_type": "code",
   "execution_count": 3,
   "metadata": {},
   "outputs": [
    {
     "name": "stdout",
     "output_type": "stream",
     "text": [
      "2018 11 17\n"
     ]
    },
    {
     "data": {
      "text/plain": [
       "5"
      ]
     },
     "execution_count": 3,
     "metadata": {},
     "output_type": "execute_result"
    }
   ],
   "source": [
    "now = datetime.now()\n",
    "print( now.year, now.month, now.day ) # hour, minute, second 등 가능\n",
    "datetime.now().weekday() # { 0:월, 1:화, 2:수, 3:목, 4:금, 5:토, 6:일 }"
   ]
  },
  {
   "cell_type": "markdown",
   "metadata": {},
   "source": [
    "#### - strftime & strptime"
   ]
  },
  {
   "cell_type": "code",
   "execution_count": 4,
   "metadata": {},
   "outputs": [
    {
     "name": "stdout",
     "output_type": "stream",
     "text": [
      "2018/11/17 Nov:22\n",
      "2018-11-01 17:00:00\n"
     ]
    }
   ],
   "source": [
    "# strftime : datetime을 문자열로\n",
    "print( now.strftime('%Y/%m/%d %h:%M') )\n",
    "# strptime : 문자열을 datetime으로\n",
    "print( datetime.strptime('2018-11-01 17:00', '%Y-%m-%d %H:%M') )"
   ]
  },
  {
   "cell_type": "markdown",
   "metadata": {},
   "source": [
    "#### - replace\n",
    "    year, month, day, hour, minute, ..."
   ]
  },
  {
   "cell_type": "code",
   "execution_count": 19,
   "metadata": {},
   "outputs": [
    {
     "data": {
      "text/plain": [
       "datetime.datetime(2015, 7, 3, 3, 30)"
      ]
     },
     "execution_count": 19,
     "metadata": {},
     "output_type": "execute_result"
    }
   ],
   "source": [
    "day1 = datetime(2015,7,3,1,10,0)\n",
    "day1.replace(hour=3, minute=30) # 1시 10분을 3시 30분으로 변경"
   ]
  },
  {
   "cell_type": "markdown",
   "metadata": {},
   "source": [
    "### timedelta - 날짜 개념을 단위로 파악 ( 날짜 계산에 유용 )\n",
    "    timedelta(days=0, seconds=0, microseconds=0, milliseconds=0, minutes=0, hours=0, weeks=0)"
   ]
  },
  {
   "cell_type": "code",
   "execution_count": 6,
   "metadata": {},
   "outputs": [
    {
     "name": "stdout",
     "output_type": "stream",
     "text": [
      "3 days, 4:00:00\n",
      "<class 'datetime.timedelta'>\n"
     ]
    }
   ],
   "source": [
    "# 날짜 차이 계산\n",
    "res = datetime(2018,11,13,19) - datetime(2018,11,10,15)\n",
    "print(res)\n",
    "print(type(res)) "
   ]
  },
  {
   "cell_type": "code",
   "execution_count": 9,
   "metadata": {},
   "outputs": [
    {
     "data": {
      "text/plain": [
       "datetime.date(2018, 11, 12)"
      ]
     },
     "execution_count": 9,
     "metadata": {},
     "output_type": "execute_result"
    }
   ],
   "source": [
    "# 일 수 계산\n",
    "date.today() - timedelta(days=5)"
   ]
  },
  {
   "cell_type": "markdown",
   "metadata": {},
   "source": [
    "### pd.date_range - 설정 단위대로 날짜 추출\n",
    "    pd.date_range(start=None, end=None, periods=None, freq=None, ... )"
   ]
  },
  {
   "cell_type": "markdown",
   "metadata": {},
   "source": [
    "#### freq : 'D' - 달력일(default), 'B' - 평일, 'H' - 시간, 'T' - 분 ,'S' - 초 , ..."
   ]
  },
  {
   "cell_type": "code",
   "execution_count": 16,
   "metadata": {},
   "outputs": [
    {
     "data": {
      "text/plain": [
       "DatetimeIndex(['2018-11-01', '2018-11-02', '2018-11-03', '2018-11-04',\n",
       "               '2018-11-05', '2018-11-06', '2018-11-07', '2018-11-08',\n",
       "               '2018-11-09', '2018-11-10'],\n",
       "              dtype='datetime64[ns]', freq='D')"
      ]
     },
     "execution_count": 16,
     "metadata": {},
     "output_type": "execute_result"
    }
   ],
   "source": [
    "pd.date_range(start='2018-11-01', end='2018-11-10') # default는 일 수"
   ]
  },
  {
   "cell_type": "code",
   "execution_count": 14,
   "metadata": {},
   "outputs": [
    {
     "data": {
      "text/plain": [
       "DatetimeIndex(['2018-11-15', '2018-11-16', '2018-11-17', '2018-11-18',\n",
       "               '2018-11-19', '2018-11-20', '2018-11-21', '2018-11-22',\n",
       "               '2018-11-23', '2018-11-24'],\n",
       "              dtype='datetime64[ns]', freq='D')"
      ]
     },
     "execution_count": 14,
     "metadata": {},
     "output_type": "execute_result"
    }
   ],
   "source": [
    "pd.date_range('2018-11-15', periods=10) # periods : 추출 개수를 의미"
   ]
  },
  {
   "cell_type": "code",
   "execution_count": 20,
   "metadata": {},
   "outputs": [
    {
     "data": {
      "text/plain": [
       "DatetimeIndex(['2018-11-15 00:00:00', '2018-11-15 00:30:00',\n",
       "               '2018-11-15 01:00:00', '2018-11-15 01:30:00',\n",
       "               '2018-11-15 02:00:00', '2018-11-15 02:30:00',\n",
       "               '2018-11-15 03:00:00', '2018-11-15 03:30:00',\n",
       "               '2018-11-15 04:00:00', '2018-11-15 04:30:00'],\n",
       "              dtype='datetime64[ns]', freq='30T')"
      ]
     },
     "execution_count": 20,
     "metadata": {},
     "output_type": "execute_result"
    }
   ],
   "source": [
    "pd.date_range('2018-11-15 00:00:00', periods=10, freq='30T') # 30분 단위"
   ]
  }
 ],
 "metadata": {
  "kernelspec": {
   "display_name": "Python 3",
   "language": "python",
   "name": "python3"
  },
  "language_info": {
   "codemirror_mode": {
    "name": "ipython",
    "version": 3
   },
   "file_extension": ".py",
   "mimetype": "text/x-python",
   "name": "python",
   "nbconvert_exporter": "python",
   "pygments_lexer": "ipython3",
   "version": "3.6.6"
  }
 },
 "nbformat": 4,
 "nbformat_minor": 2
}
